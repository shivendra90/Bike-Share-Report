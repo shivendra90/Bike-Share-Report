{
 "cells": [
  {
   "cell_type": "markdown",
   "metadata": {},
   "source": [
    "# 2016 US Bike Share Activity Snapshot\n",
    "\n",
    "## Table of Contents\n",
    "- [Introduction](#intro)\n",
    "- [Posing Questions](#pose_questions)\n",
    "- [Data Collection and Wrangling](#wrangling)\n",
    "  - [Condensing the Trip Data](#condensing)\n",
    "- [Exploratory Data Analysis](#eda)\n",
    "  - [Statistics](#statistics)\n",
    "  - [Visualizations](#visualizations)\n",
    "- [Performing Your Own Analysis](#eda_continued)\n",
    "- [Conclusions](#conclusions)\n",
    "\n",
    "<a id='intro'></a>\n",
    "## Introduction\n",
    "\n",
    "> **Tip**: Quoted sections like this will provide helpful instructions on how to navigate and use a Jupyter notebook.\n",
    "\n",
    "Over the past decade, bicycle-sharing systems have been growing in number and popularity in cities across the world. Bicycle-sharing systems allow users to rent bicycles for short trips, typically 30 minutes or less. Thanks to the rise in information technologies, it is easy for a user of the system to access a dock within the system to unlock or return bicycles. These technologies also provide a wealth of data that can be used to explore how these bike-sharing systems are used.\n",
    "\n",
    "In this project, you will perform an exploratory analysis on data provided by [Motivate](https://www.motivateco.com/), a bike-share system provider for many major cities in the United States. You will compare the system usage between three large cities: New York City, Chicago, and Washington, DC. You will also see if there are any differences within each system for those users that are registered, regular users and those users that are short-term, casual users."
   ]
  },
  {
   "cell_type": "markdown",
   "metadata": {},
   "source": [
    "<a id='pose_questions'></a>\n",
    "## Posing Questions\n",
    "\n",
    "Before looking at the bike sharing data, you should start by asking questions you might want to understand about the bike share data. Consider, for example, if you were working for Motivate. What kinds of information would you want to know about in order to make smarter business decisions? If you were a user of the bike-share service, what factors might influence how you would want to use the service?\n",
    "\n",
    "**Question 1**: Write at least two questions related to bike sharing that you think could be answered by data.\n",
    "\n",
    "**Answer**: Several questions can be asnwered by the provided data. The tables that have been given to us focus on data relating to three cities - Washington, Chicago and New York City. A preliminary look into the datasets' structure and variables will provide anyone the idea that the concerned datasets record details of eaach journey made by a customer. These customers are either 'registered' or 'casual' customers; their addresses, the duration that took their journeys to end, start and ending dates and several other things are presented there.\n",
    "\n",
    "In such circumstances, one could pose ask on the average duration of a journey that customers take, average distance covered in miles or kilometres (whichever unit that suits the researcher) the most used starting station and also the seasonal variations observed in the journey datasets. How do people perceive the bike service during winters or another season when one could guess that there would be a decrease in demand in the bike usage? This can again be used as base to answer several other questions such as the seasonal trends of the averall dataset regarding all the variables concerned - duration of the journeys and subscriber type. There could be more registered users using the bikes in one season while casual customers might use it in another. I would personally try to answer the questions regarding the business trends of the service in these cities, like so:\n",
    "\n",
    "- Do users use these bikes to travel a larger share of longer distances or do they use them to travel short commuting distances? \n",
    "- Over time, has the purpose of the service changed from a short commuting service to covering larger distances or is it vice versa? Has it remained more or less constant in the time periods that the datasets cover? \n",
    "- If a business trend can be extracted from these datasets, wht will one observe when looking into the customer base? Has the company ben able to expand its customer base and have more users registered themselves as regular subscribers or do people use it more as a casual commuting service or has it remained more or less uniform throughout the period? These and many more questions can be framed for answering the basic purpose of the research.\n",
    "\n",
    "> **Tip**: If you double click on this cell, you will see the text change so that all of the formatting is removed. This allows you to edit this block of text. This block of text is written using [Markdown](http://daringfireball.net/projects/markdown/syntax), which is a way to format text using headers, links, italics, and many other options using a plain-text syntax. You will also use Markdown later in the Nanodegree program. Use **Shift** + **Enter** or **Shift** + **Return** to run the cell and show its rendered form."
   ]
  },
  {
   "cell_type": "markdown",
   "metadata": {},
   "source": [
    "<a id='wrangling'></a>\n",
    "## Data Collection and Wrangling\n",
    "\n",
    "Now it's time to collect and explore our data. In this project, we will focus on the record of individual trips taken in 2016 from our selected cities: New York City, Chicago, and Washington, DC. Each of these cities has a page where we can freely download the trip data.:\n",
    "\n",
    "- New York City (Citi Bike): [Link](https://www.citibikenyc.com/system-data)\n",
    "- Chicago (Divvy): [Link](https://www.divvybikes.com/system-data)\n",
    "- Washington, DC (Capital Bikeshare): [Link](https://www.capitalbikeshare.com/system-data)\n",
    "\n",
    "If you visit these pages, you will notice that each city has a different way of delivering its data. Chicago updates with new data twice a year, Washington DC is quarterly, and New York City is monthly. **However, you do not need to download the data yourself.** The data has already been collected for you in the `/data/` folder of the project files. While the original data for 2016 is spread among multiple files for each city, the files in the `/data/` folder collect all of the trip data for the year into one file per city. Some data wrangling of inconsistencies in timestamp format within each city has already been performed for you. In addition, a random 2% sample of the original data is taken to make the exploration more manageable. \n",
    "\n",
    "**Question 2**: However, there is still a lot of data for us to investigate, so it's a good idea to start off by looking at one entry from each of the cities we're going to analyze. Run the first code cell below to load some packages and functions that you'll be using in your analysis. Then, complete the second code cell to print out the first trip recorded from each of the cities (the second line of each data file).\n",
    "\n",
    "> **Tip**: You can run a code cell like you formatted Markdown cells above by clicking on the cell and using the keyboard shortcut **Shift** + **Enter** or **Shift** + **Return**. Alternatively, a code cell can be executed using the **Play** button in the toolbar after selecting it. While the cell is running, you will see an asterisk in the message to the left of the cell, i.e. `In [*]:`. The asterisk will change into a number to show that execution has completed, e.g. `In [1]`. If there is output, it will show up as `Out [1]:`, with an appropriate number to match the \"In\" number."
   ]
  },
  {
   "cell_type": "code",
   "execution_count": 3,
   "metadata": {},
   "outputs": [],
   "source": [
    "## import all necessary packages and functions.\n",
    "import csv # read and write csv files\n",
    "from datetime import datetime # operations to parse dates\n",
    "from pprint import pprint # use to print data structures like dictionaries in\n",
    "                          # a nicer way than the base print function.\n",
    "from collections import OrderedDict # For additional dictionary iterations and operations\n",
    "import pandas as pd # Required where dictionaries become problematic\n",
    "import numpy as np # For nicer statistical operations\n",
    "import matplotlib.pyplot as plt # Moved this from bottom to top\n",
    "import statistics as st # For extra statistical operations\n",
    "import altair as alt # Nice visualization tools\n",
    "from altair import *\n",
    "from IPython.display import display # Just in case some graphics do not show up"
   ]
  },
  {
   "cell_type": "code",
   "execution_count": 2,
   "metadata": {},
   "outputs": [
    {
     "name": "stdout",
     "output_type": "stream",
     "text": [
      "\n",
      "City: NYC\n",
      "OrderedDict([   ('tripduration', '839'),\n",
      "                ('starttime', '1/1/2016 00:09:55'),\n",
      "                ('stoptime', '1/1/2016 00:23:54'),\n",
      "                ('start station id', '532'),\n",
      "                ('start station name', 'S 5 Pl & S 4 St'),\n",
      "                ('start station latitude', '40.710451'),\n",
      "                ('start station longitude', '-73.960876'),\n",
      "                ('end station id', '401'),\n",
      "                ('end station name', 'Allen St & Rivington St'),\n",
      "                ('end station latitude', '40.72019576'),\n",
      "                ('end station longitude', '-73.98997825'),\n",
      "                ('bikeid', '17109'),\n",
      "                ('usertype', 'Customer'),\n",
      "                ('birth year', ''),\n",
      "                ('gender', '0')])\n",
      "\n",
      "City: Chicago\n",
      "OrderedDict([   ('trip_id', '9080545'),\n",
      "                ('starttime', '3/31/2016 23:30'),\n",
      "                ('stoptime', '3/31/2016 23:46'),\n",
      "                ('bikeid', '2295'),\n",
      "                ('tripduration', '926'),\n",
      "                ('from_station_id', '156'),\n",
      "                ('from_station_name', 'Clark St & Wellington Ave'),\n",
      "                ('to_station_id', '166'),\n",
      "                ('to_station_name', 'Ashland Ave & Wrightwood Ave'),\n",
      "                ('usertype', 'Subscriber'),\n",
      "                ('gender', 'Male'),\n",
      "                ('birthyear', '1990')])\n",
      "\n",
      "City: Washington\n",
      "OrderedDict([   ('Duration (ms)', '427387'),\n",
      "                ('Start date', '3/31/2016 22:57'),\n",
      "                ('End date', '3/31/2016 23:04'),\n",
      "                ('Start station number', '31602'),\n",
      "                ('Start station', 'Park Rd & Holmead Pl NW'),\n",
      "                ('End station number', '31207'),\n",
      "                ('End station', 'Georgia Ave and Fairmont St NW'),\n",
      "                ('Bike number', 'W20842'),\n",
      "                ('Member Type', 'Registered')])\n"
     ]
    }
   ],
   "source": [
    "def print_first_point(filename):\n",
    "    \"\"\"\n",
    "    This function prints and returns the first data point (second row) from\n",
    "    a csv file that includes a header row.\n",
    "    \"\"\"\n",
    "    # print city name for reference\n",
    "    city = filename.split('-')[0].split('/')[-1]\n",
    "    print('\\nCity: {}'.format(city))\n",
    "    \n",
    "    with open(filename, 'r') as csvfile:\n",
    "        ## TODO: Use the csv library to set up a DictReader object. ##\n",
    "        ## see https://docs.python.org/3/library/csv.html           ##\n",
    "        trip_reader = csv.DictReader(csvfile)\n",
    "        \n",
    "        ## TODO: Use a function on the DictReader object to read the     ##\n",
    "        ## first trip from the data file and store it in a variable.     ##\n",
    "        ## see https://docs.python.org/3/library/csv.html#reader-objects ##\n",
    "        first_trip = next(trip_reader)\n",
    "        \n",
    "        ## TODO: Use the pprint library to print the first trip. ##\n",
    "        ## see https://docs.python.org/3/library/pprint.html     ##\n",
    "        pprint(first_trip, indent= 4)\n",
    "    # output city name and first trip for later testing\n",
    "    return (city, first_trip)\n",
    "\n",
    "# list of files for each city\n",
    "data_files = ['./data/NYC-CitiBike-2016.csv',\n",
    "              './data/Chicago-Divvy-2016.csv',\n",
    "              './data/Washington-CapitalBikeshare-2016.csv',]\n",
    "\n",
    "# print the first trip from each file, store in dictionary\n",
    "example_trips = {}\n",
    "for data_file in data_files:\n",
    "    city, first_trip = print_first_point(data_file)\n",
    "    example_trips[city] = first_trip"
   ]
  },
  {
   "cell_type": "markdown",
   "metadata": {},
   "source": [
    "If everything has been filled out correctly, you should see below the printout of each city name (which has been parsed from the data file name) that the first trip has been parsed in the form of a dictionary. When you set up a `DictReader` object, the first row of the data file is normally interpreted as column names. Every other row in the data file will use those column names as keys, as a dictionary is generated for each row.\n",
    "\n",
    "This will be useful since we can refer to quantities by an easily-understandable label instead of just a numeric index. For example, if we have a trip stored in the variable `row`, then we would rather get the trip duration from `row['duration']` instead of `row[0]`.\n",
    "\n",
    "<a id='condensing'></a>\n",
    "### Condensing the Trip Data\n",
    "\n",
    "It should also be observable from the above printout that each city provides different information. Even where the information is the same, the column names and formats are sometimes different. To make things as simple as possible when we get to the actual exploration, we should trim and clean the data. Cleaning the data makes sure that the data formats across the cities are consistent, while trimming focuses only on the parts of the data we are most interested in to make the exploration easier to work with.\n",
    "\n",
    "You will generate new data files with five values of interest for each trip: trip duration, starting month, starting hour, day of the week, and user type. Each of these may require additional wrangling depending on the city:\n",
    "\n",
    "- **Duration**: This has been given to us in seconds (New York, Chicago) or milliseconds (Washington). A more natural unit of analysis will be if all the trip durations are given in terms of minutes.\n",
    "- **Month**, **Hour**, **Day of Week**: Ridership volume is likely to change based on the season, time of day, and whether it is a weekday or weekend. Use the start time of the trip to obtain these values. The New York City data includes the seconds in their timestamps, while Washington and Chicago do not. The [`datetime`](https://docs.python.org/3/library/datetime.html) package will be very useful here to make the needed conversions.\n",
    "- **User Type**: It is possible that users who are subscribed to a bike-share system will have different patterns of use compared to users who only have temporary passes. Washington divides its users into two types: 'Registered' for users with annual, monthly, and other longer-term subscriptions, and 'Casual', for users with 24-hour, 3-day, and other short-term passes. The New York and Chicago data uses 'Subscriber' and 'Customer' for these groups, respectively. For consistency, you will convert the Washington labels to match the other two.\n",
    "\n",
    "\n",
    "**Question 3a**: Complete the helper functions in the code cells below to address each of the cleaning tasks described above."
   ]
  },
  {
   "cell_type": "code",
   "execution_count": 3,
   "metadata": {},
   "outputs": [],
   "source": [
    "datum = {}\n",
    "\n",
    "def duration_in_mins(datum, city):\n",
    "    \"\"\"\n",
    "    Takes as input a dictionary containing info about a single trip (datum) and\n",
    "    its origin city (city) and returns the trip duration in units of minutes.\n",
    "    \n",
    "    Remember that Washington is in terms of milliseconds while Chicago and NYC\n",
    "    are in terms of seconds. \n",
    "    \n",
    "    HINT: The csv module reads in all of the data as strings, including numeric\n",
    "    values. You will need a function to convert the strings into an appropriate\n",
    "    numeric type when making your transformations.\n",
    "    see https://docs.python.org/3/library/functions.html\n",
    "    \"\"\"\n",
    "    \n",
    "    # YOUR CODE HERE\n",
    "    if city == 'NYC':\n",
    "        # For New York\n",
    "        duration = float(datum['tripduration'])/60\n",
    "    \n",
    "    elif city == 'Chicago':\n",
    "        # For Chicago\n",
    "        duration = float(datum['tripduration'])/60\n",
    "    \n",
    "    else:\n",
    "        # For Washington\n",
    "        duration = float(datum['Duration (ms)'])/60000\n",
    "    \n",
    "    return duration\n",
    "\n",
    "\n",
    "# Some tests to check that your code works. There should be no output if all of\n",
    "# the assertions pass. The `example_trips` dictionary was obtained from when\n",
    "# you printed the first trip from each of the original data files.\n",
    "tests = {'NYC': 13.9833,\n",
    "         'Chicago': 15.4333,\n",
    "         'Washington': 7.1231}\n",
    "\n",
    "for city in tests:\n",
    "    assert abs(duration_in_mins(example_trips[city], city) - tests[city]) < .001"
   ]
  },
  {
   "cell_type": "code",
   "execution_count": 4,
   "metadata": {},
   "outputs": [],
   "source": [
    "def time_of_trip(datum, city):\n",
    "    \"\"\"\n",
    "    Takes as input a dictionary containing info about a single trip (datum) and\n",
    "    its origin city (city) and returns the month, hour, and day of the week in\n",
    "    which the trip was made.\n",
    "    \n",
    "    Remember that NYC includes seconds, while Washington and Chicago do not.\n",
    "    \n",
    "    HINT: You should use the datetime module to parse the original date\n",
    "    strings into a format that is useful for extracting the desired information.\n",
    "    see https://docs.python.org/3/library/datetime.html#strftime-and-strptime-behavior\n",
    "    \"\"\"\n",
    "    \n",
    "    # YOUR CODE HERE\n",
    "    \n",
    "    if city == 'NYC':\n",
    "        # Extract out the whole string.\n",
    "        raw_date_time = datum['starttime']\n",
    "        \n",
    "        # Parse the string to the correct format.\n",
    "        parsed_date_time = datetime.strptime(raw_date_time, '%m/%d/%Y %H:%M:%S')\n",
    "        \n",
    "        # After getting the datetime object, slice out only the date portion.\n",
    "        split_date = datetime.date(parsed_date_time)\n",
    "        \n",
    "        # Slice out the time portion similar to the above step.\n",
    "        split_time = datetime.time(parsed_date_time)\n",
    "        \n",
    "        # Extract month, hour and the concerned day of the week.\n",
    "        month = int(split_date.strftime('%m'))\n",
    "        \n",
    "        hour = int(split_time.strftime('%H'))\n",
    "        \n",
    "        day_of_week = split_date.strftime('%A')\n",
    "        \n",
    "    \n",
    "    if city == 'Chicago':\n",
    "        # Repeat above steps for Chicago\n",
    "        raw_date_time = datum['starttime']\n",
    "        \n",
    "        parsed_date_time = datetime.strptime(raw_date_time, '%m/%d/%Y %H:%M')\n",
    "        \n",
    "        split_date = datetime.date(parsed_date_time)\n",
    "        \n",
    "        split_time = datetime.time(parsed_date_time)\n",
    "        \n",
    "        month = int(split_date.strftime('%m'))\n",
    "        \n",
    "        hour = int(split_time.strftime('%H'))\n",
    "        \n",
    "        day_of_week = split_date.strftime('%A')\n",
    "        \n",
    "    \n",
    "    if city == 'Washington':\n",
    "        # Repeat above steps for Washington.\n",
    "        raw_date_time = datum['Start date']\n",
    "        \n",
    "        parsed_date_time = datetime.strptime(raw_date_time, '%m/%d/%Y %H:%M')\n",
    "        \n",
    "        split_date = datetime.date(parsed_date_time)\n",
    "        \n",
    "        split_time = datetime.time(parsed_date_time)\n",
    "        \n",
    "        month = int(split_date.strftime('%m'))\n",
    "        \n",
    "        hour = int(split_time.strftime('%H'))\n",
    "        \n",
    "        day_of_week = split_date.strftime('%A')\n",
    "        \n",
    "    return (month, hour, day_of_week)\n",
    "\n",
    "\n",
    "# Some tests to check that your code works. There should be no output if all of\n",
    "# the assertions pass. The `example_trips` dictionary was obtained from when\n",
    "# you printed the first trip from each of the original data files.\n",
    "tests = {'NYC': (1, 0, 'Friday'),\n",
    "         'Chicago': (3, 23, 'Thursday'),\n",
    "         'Washington': (3, 22, 'Thursday')}\n",
    "\n",
    "for city in tests:\n",
    "    assert time_of_trip(example_trips[city], city) == tests[city]"
   ]
  },
  {
   "cell_type": "code",
   "execution_count": 5,
   "metadata": {},
   "outputs": [],
   "source": [
    "def type_of_user(datum, city):\n",
    "    \"\"\"\n",
    "    Takes as input a dictionary containing info about a single trip (datum) and\n",
    "    its origin city (city) and returns the type of system user that made the\n",
    "    trip.\n",
    "    \n",
    "    Remember that Washington has different category names compared to Chicago\n",
    "    and NYC. \n",
    "    \"\"\"\n",
    "   \n",
    "    # YOUR CODE HERE\n",
    "    # Here my approach would be to extract the user type filed for each dictionary \n",
    "    # and subsequently convert the value according to a condition/criteria.\n",
    "    \n",
    "    # Let's do this for Washington.\n",
    "    # If 'member type' is registered, convert it to 'Subscriber', else convert it to 'Customer'.\n",
    "    \n",
    "    if city == 'NYC':\n",
    "        user_type = str(datum['usertype'])\n",
    "    \n",
    "    elif city == 'Chicago':\n",
    "        user_type = str(datum['usertype'])\n",
    "\n",
    "    else:\n",
    "        if datum['Member Type'] == 'Registered':\n",
    "            user_type = 'Subscriber'\n",
    "        else:\n",
    "            user_type = 'Customer'\n",
    "            \n",
    "    return user_type\n",
    "\n",
    "\n",
    "# Some tests to check that your code works. There should be no output if all of\n",
    "# the assertions pass. The `example_trips` dictionary was obtained from when\n",
    "# you printed the first trip from each of the original data files.\n",
    "tests = {'NYC': 'Customer',\n",
    "         'Chicago': 'Subscriber',\n",
    "         'Washington': 'Subscriber'}\n",
    "\n",
    "for city in tests:\n",
    "    assert type_of_user(example_trips[city], city) == tests[city]"
   ]
  },
  {
   "cell_type": "markdown",
   "metadata": {},
   "source": [
    "**Question 3b**: Now, use the helper functions you wrote above to create a condensed data file for each city consisting only of the data fields indicated above. In the `/examples/` folder, you will see an example datafile from the [Bay Area Bike Share](http://www.bayareabikeshare.com/open-data) before and after conversion. Make sure that your output is formatted to be consistent with the example file."
   ]
  },
  {
   "cell_type": "code",
   "execution_count": 6,
   "metadata": {},
   "outputs": [],
   "source": [
    "from csv import writer\n",
    "\n",
    "def condense_data(in_file, out_file, city):\n",
    "    \"\"\"\n",
    "    This function takes full data from the specified input file\n",
    "    and writes the condensed data to a specified output file. The city\n",
    "    argument determines how the input file will be parsed.\n",
    "    \n",
    "    HINT: See the cell below to see how the arguments are structured!\n",
    "    \"\"\"\n",
    "    \n",
    "    with open(out_file, 'w') as csv_out, open(in_file, 'r') as csv_in:\n",
    "        # set up csv DictWriter object - writer requires column names for the\n",
    "        # first row as the \"fieldnames\" argument\n",
    "        out_colnames = ['duration', 'month', 'hour', 'day_of_week', 'user_type']        \n",
    "        trip_writer = csv.DictWriter(csv_out, fieldnames = out_colnames)\n",
    "        trip_writer.writeheader()\n",
    "        \n",
    "        ## TODO: set up csv DictReader object ##\n",
    "        trip_reader = csv.DictReader(csv_in)\n",
    "\n",
    "        # collect data from and process each row\n",
    "        for row in trip_reader:\n",
    "            # set up a dictionary to hold the values for the cleaned and trimmed\n",
    "            # data point\n",
    "            new_point = {}\n",
    "\n",
    "            ## TODO: use the helper functions to get the cleaned data from  ##\n",
    "            ## the original data dictionaries.                              ##\n",
    "            ## Note that the keys for the new_point dictionary should match ##\n",
    "            ## the column names set in the DictWriter object above.         ##\n",
    "            new_point['duration'] = int(duration_in_mins(row, city))\n",
    "            new_point['month'] = time_of_trip(row, city)[0]\n",
    "            new_point['hour'] = time_of_trip(row, city)[1]\n",
    "            new_point['day_of_week'] = str(time_of_trip(row, city)[2])\n",
    "            new_point['user_type'] = str(type_of_user(row, city))\n",
    "            \n",
    "            ## TODO: write the processed information to the output file.     ##\n",
    "            ## see https://docs.python.org/3/library/csv.html#writer-objects ##\n",
    "            trip_writer.writerow(new_point)\n",
    "            "
   ]
  },
  {
   "cell_type": "code",
   "execution_count": 7,
   "metadata": {},
   "outputs": [
    {
     "name": "stdout",
     "output_type": "stream",
     "text": [
      "\n",
      "City: Washington\n",
      "OrderedDict([   ('duration', '7'),\n",
      "                ('month', '3'),\n",
      "                ('hour', '22'),\n",
      "                ('day_of_week', 'Thursday'),\n",
      "                ('user_type', 'Subscriber')])\n",
      "\n",
      "City: Chicago\n",
      "OrderedDict([   ('duration', '15'),\n",
      "                ('month', '3'),\n",
      "                ('hour', '23'),\n",
      "                ('day_of_week', 'Thursday'),\n",
      "                ('user_type', 'Subscriber')])\n",
      "\n",
      "City: NYC\n",
      "OrderedDict([   ('duration', '13'),\n",
      "                ('month', '1'),\n",
      "                ('hour', '0'),\n",
      "                ('day_of_week', 'Friday'),\n",
      "                ('user_type', 'Customer')])\n"
     ]
    }
   ],
   "source": [
    "# Run this cell to check your work\n",
    "city_info = {'Washington': {'in_file': './data/Washington-CapitalBikeshare-2016.csv',\n",
    "                            'out_file': './data/Washington-2016-Summary.csv'},\n",
    "             'Chicago': {'in_file': './data/Chicago-Divvy-2016.csv',\n",
    "                         'out_file': './data/Chicago-2016-Summary.csv'},\n",
    "             'NYC': {'in_file': './data/NYC-CitiBike-2016.csv',\n",
    "                     'out_file': './data/NYC-2016-Summary.csv'}}\n",
    "\n",
    "for city, filenames in city_info.items():\n",
    "    condense_data(filenames['in_file'], filenames['out_file'], city)\n",
    "    print_first_point(filenames['out_file'])"
   ]
  },
  {
   "cell_type": "markdown",
   "metadata": {},
   "source": [
    "> **Tip**: If you save a jupyter Notebook, the output from running code blocks will also be saved. However, the state of your workspace will be reset once a new session is started. Make sure that you run all of the necessary code blocks from your previous session to reestablish variables and functions before picking up where you last left off.\n",
    "\n",
    "<a id='eda'></a>\n",
    "## Exploratory Data Analysis\n",
    "\n",
    "Now that you have the data collected and wrangled, you're ready to start exploring the data. In this section you will write some code to compute descriptive statistics from the data. You will also be introduced to the `matplotlib` library to create some basic histograms of the data.\n",
    "\n",
    "<a id='statistics'></a>\n",
    "### Statistics\n",
    "\n",
    "First, let's compute some basic counts. The first cell below contains a function that uses the csv module to iterate through a provided data file, returning the number of trips made by subscribers and customers. The second cell runs this function on the example Bay Area data in the `/examples/` folder. Modify the cells to answer the question below.\n",
    "\n",
    "**Question 4a**: Which city has the highest number of trips? Which city has the highest proportion of trips made by subscribers? Which city has the highest proportion of trips made by short-term customers?\n",
    "\n",
    "**Answer to be found below!**"
   ]
  },
  {
   "cell_type": "code",
   "execution_count": 1,
   "metadata": {},
   "outputs": [],
   "source": [
    "# Define a functon that puts commas at the relevant place for a numeral.\n",
    "\n",
    "# This function was written down referring to the following post at stackoverflow.\n",
    "# https://stackoverflow.com/questions/48066093/adding-punctuations-inside-dictionary-values\n",
    "def put_comma(x):\n",
    "    if len(x) == 5: return x[0:2] + ',' + x[2:]\n",
    "    elif len(x) == 6: return x[0:3] + ',' + x[3:]\n",
    "    else: return x\n",
    "\n",
    "def number_of_trips(filename):\n",
    "    \"\"\"\n",
    "    This function reads in a file with trip data and reports the number of\n",
    "    trips made by subscribers, customers, and total overall.\n",
    "    \"\"\"\n",
    "    \n",
    "    with open(filename, 'r') as f_in:\n",
    "        # set up csv reader object\n",
    "        reader = csv.DictReader(f_in)\n",
    "        \n",
    "        # initialize count variables\n",
    "        n_subscribers = 0\n",
    "        n_customers = 0\n",
    "        \n",
    "        # tally up ride types\n",
    "        for row in reader:\n",
    "            if row['user_type'] == 'Subscriber':\n",
    "                n_subscribers += 1\n",
    "            else:\n",
    "                n_customers += 1\n",
    "        \n",
    "        # compute total number of rides\n",
    "        n_total = n_subscribers + n_customers\n",
    "        \n",
    "        # return tallies as a tuple\n",
    "        trip_tally = {'Subscribers': str(n_subscribers), 'Customers': str(n_customers), 'Total': str(n_total)}\n",
    "        \n",
    "        for key, value in trip_tally.items():\n",
    "            trip_tally[key] = put_comma(value)\n",
    "            \n",
    "        return trip_tally"
   ]
  },
  {
   "cell_type": "code",
   "execution_count": 9,
   "metadata": {
    "scrolled": true
   },
   "outputs": [
    {
     "name": "stdout",
     "output_type": "stream",
     "text": [
      "NYC : {'Subscribers': '245,896', 'Customers': '30,902', 'Total': '276,798'}\n",
      "Chicago : {'Subscribers': '54,982', 'Customers': '17,149', 'Total': '72,131'}\n",
      "Washington : {'Subscribers': '51,753', 'Customers': '14,573', 'Total': '66,326'}\n"
     ]
    }
   ],
   "source": [
    "## Modify this and the previous cell to answer Question 4a. Remember to run ##\n",
    "## the function on the cleaned data files you created from Question 3.      ##\n",
    "\n",
    "city_data_file = {'NYC': './data/NYC-2016-Summary.csv',\n",
    "                  'Chicago': './data/Chicago-2016-Summary.csv',\n",
    "                  'Washington':'./data/Washington-2016-Summary.csv'}\n",
    "\n",
    "for city, data in city_data_file.items():\n",
    "    print(city, ':', number_of_trips(data))"
   ]
  },
  {
   "cell_type": "markdown",
   "metadata": {},
   "source": [
    "**Answer 4a: Edited answer as per the review.**\n",
    "\n",
    "The part for which we calculate proportions is to be found in the cell following this one from **_In[18]_**. This is the unedited output for `number_of_trips()`.\n",
    "\n",
    "As can be seen from the output, the city of New York records the highest number of subscribers with 245,896 out of a total of 276,798 individuals who made trips in 2016 (also the highest among all three) recorded in 2016. In terms of percentage, New York also recorded the highest propertion of trips made by subscribers. I show an output, similar to the above in a code cell below, but with outputs in percentages. "
   ]
  },
  {
   "cell_type": "code",
   "execution_count": 18,
   "metadata": {},
   "outputs": [],
   "source": [
    "# In this cell, I'll use similar functionality as seen from the cell above\n",
    "# but with output that shows the proportion of rides made by user_type \n",
    "# for each of the three cities and then we compare the results.\n",
    "# Results to be interpreted in percentages.\n",
    "\n",
    "def proportion_of_rides(file):\n",
    "    \n",
    "    # Define the usual dictionary\n",
    "    with open(file, 'r') as csvfile:\n",
    "        trip_reader = csv.DictReader(csvfile)\n",
    "        \n",
    "        # initialize count variables\n",
    "        n_subscribers = 0\n",
    "        n_customers = 0\n",
    "        prop_subscribers = 0\n",
    "        prop_customers = 0\n",
    "        \n",
    "        # Count number of subscribers and customers.\n",
    "        # Use above method to return a dict.\n",
    "        for row in trip_reader:\n",
    "            if row['user_type'] == 'Subscriber':\n",
    "                n_subscribers += 1\n",
    "            else:\n",
    "                n_customers += 1\n",
    "                \n",
    "        # Compute total number of individuals.\n",
    "        n_total = n_subscribers + n_customers\n",
    "        \n",
    "        # Return tally\n",
    "        trip_tally = {'Subscribers': float(n_subscribers), 'Customers': float(n_customers), 'Total': float(n_total)}\n",
    "        \n",
    "        prop_subscribers = (float(trip_tally['Subscribers'])/float(trip_tally['Total'])) * 100\n",
    "        prop_customers = (float(trip_tally['Customers'])/float(trip_tally['Total'])) * 100\n",
    "        \n",
    "        trip_tally_props = {'Subscribers': round(prop_subscribers, 2), 'Customers': round(prop_customers, 2)}\n",
    "        \n",
    "        return trip_tally_props\n"
   ]
  },
  {
   "cell_type": "code",
   "execution_count": 19,
   "metadata": {},
   "outputs": [
    {
     "name": "stdout",
     "output_type": "stream",
     "text": [
      "NYC : {'Subscribers': 88.84, 'Customers': 11.16}\n",
      "Chicago : {'Subscribers': 76.23, 'Customers': 23.77}\n",
      "Washington : {'Subscribers': 78.03, 'Customers': 21.97}\n"
     ]
    }
   ],
   "source": [
    "# Testing\n",
    "\n",
    "city_data_file = {'NYC': './data/NYC-2016-Summary.csv',\n",
    "                  'Chicago': './data/Chicago-2016-Summary.csv',\n",
    "                  'Washington':'./data/Washington-2016-Summary.csv'}\n",
    "\n",
    "for city, data in city_data_file.items():\n",
    "    print(city, ':', proportion_of_rides(data))"
   ]
  },
  {
   "cell_type": "markdown",
   "metadata": {},
   "source": [
    "As continuation to **Answer 4a**, the above cell listed down the proportion of trips made by user types. As is evident, New York reported the highst percent figure for subcribers (88.84%) against just 11.16% for customers. For non-subscribers, Chicago reported the highest number at 23.77%. New York thus has the majority of their records as subscribers."
   ]
  },
  {
   "cell_type": "markdown",
   "metadata": {},
   "source": [
    "> **Tip**: In order to add additional cells to a notebook, you can use the \"Insert Cell Above\" and \"Insert Cell Below\" options from the menu bar above. There is also an icon in the toolbar for adding new cells, with additional icons for moving the cells up and down the document. By default, new cells are of the code type; you can also specify the cell type (e.g. Code or Markdown) of selected cells from the Cell menu or the dropdown in the toolbar.\n",
    "\n",
    "Now, you will write your own code to continue investigating properties of the data.\n",
    "\n",
    "**Question 4b**: Bike-share systems are designed for riders to take short trips. Most of the time, users are allowed to take trips of 30 minutes or less with no additional charges, with overage charges made for trips of longer than that duration. What is the average trip length for each city? What proportion of rides made in each city are longer than 30 minutes?\n",
    "\n",
    "**Answer to be found below**"
   ]
  },
  {
   "cell_type": "code",
   "execution_count": 3,
   "metadata": {
    "scrolled": true
   },
   "outputs": [],
   "source": [
    "## Use this and additional cells to answer Question 4b.                 ##\n",
    "##                                                                      ##\n",
    "## HINT: The csv module reads in all of the data as strings, including  ##\n",
    "## numeric values. You will need a function to convert the strings      ##\n",
    "## into an appropriate numeric type before you aggregate data.          ##\n",
    "## TIP: For the Bay Area example, the average trip length is 14 minutes ##\n",
    "## and 3.5% of trips are longer than 30 minutes.                        ##\n",
    "\n",
    "def avg_trip_length_and_prop(filename):\n",
    "    \"\"\"\n",
    "    This function returns the average length of duration for each city as well\n",
    "    as the proportion of rides that are longer than 30 minutes in percentages.\n",
    "    \"\"\"\n",
    "    # Executes the function by first defining a csv dataframe loaded by pandas #\n",
    "    # and running qppropriate operations on that dataframe. These operations   #\n",
    "    # include simple math like average and division to find a float value.     #\n",
    "    \n",
    "    # Step 1. Load the csv file.\n",
    "    data = pd.read_csv(filename)\n",
    "\n",
    "    # Step 2. Define appropriate variables.\n",
    "    avg_dur = 0\n",
    "    long_ride = 0\n",
    "    short_ride = 0\n",
    "    dat_length = 0\n",
    "    prop_ride = 0\n",
    "    \n",
    "    # Step 3. Find the average.\n",
    "    avg_dur = np.mean(data['duration'])\n",
    "\n",
    "    # Step 4. Find out the number of rides < 30 minutes.\n",
    "    for index, row in data.iterrows():\n",
    "        if row['duration'] > 30:\n",
    "            long_ride += 1\n",
    "        else:\n",
    "            short_ride += 1\n",
    "        \n",
    "    # Step 5. Divide (4) by number of observations to get the final value.\n",
    "    dat_length = len(data)\n",
    "    prop_ride = (long_ride/dat_length) * 100\n",
    "    return round(avg_dur, 2), round(prop_ride, 2)\n",
    "    "
   ]
  },
  {
   "cell_type": "code",
   "execution_count": 11,
   "metadata": {},
   "outputs": [
    {
     "name": "stdout",
     "output_type": "stream",
     "text": [
      "For New York, the average trip recorded was 15.32 minutes and proportion of rides longer than 30 minutes was 6.61%.\n",
      "For Chicago, the average trip recorded was 16.07 minutes and proportion of rides longer than 30 minutes was 7.66%.\n",
      "For Washington, the average trip recorded was 18.43 minutes and proportion of rides longer than 30 minutes was 10.24%.\n"
     ]
    }
   ],
   "source": [
    "# Test cell to check results\n",
    "\n",
    "nyc = './data/NYC-2016-Summary.csv'\n",
    "chicago = './data/Chicago-2016-Summary.csv'\n",
    "washington = './data/Washington-2016-Summary.csv'\n",
    "\n",
    "nyc_print = print('For New York, the average trip recorded was {} minutes and proportion of rides longer than 30 minutes was {}%.'.\n",
    "                 format(avg_trip_length_and_prop(nyc)[0], avg_trip_length_and_prop(nyc)[1]))\n",
    "\n",
    "chicago_print = print('For Chicago, the average trip recorded was {} minutes and proportion of rides longer than 30 minutes was {}%.'.\n",
    "                 format(avg_trip_length_and_prop(chicago)[0], avg_trip_length_and_prop(chicago)[1]))\n",
    "\n",
    "wash_print = print('For Washington, the average trip recorded was {} minutes and proportion of rides longer than 30 minutes was {}%.'.\n",
    "                 format(avg_trip_length_and_prop(washington)[0], avg_trip_length_and_prop(washington)[1]))\n"
   ]
  },
  {
   "cell_type": "markdown",
   "metadata": {},
   "source": [
    "**Answer 4b**: As can be seen from the output, the average trip length in rounded decimals has been returned for each city, with Washington recording the longest mean trip duration (18.43 minutes), followed by Chicago (16.07 minutes) and New York (15.32 minutes) in reverse order. On a similar note, the percent of rides taken at a duration of greater than 30 minutes was also the highest for Washington (10.24%) followed by Chicago (7.66%) and lowest for New York (6.61%)."
   ]
  },
  {
   "cell_type": "markdown",
   "metadata": {},
   "source": [
    "**Question 4c**: Dig deeper into the question of trip duration based on ridership. Choose one city. Within that city, which type of user takes longer rides on average: Subscribers or Customers?\n",
    "\n",
    "**Answer to be found below!**"
   ]
  },
  {
   "cell_type": "code",
   "execution_count": 8,
   "metadata": {},
   "outputs": [],
   "source": [
    "## Use this and additional cells to answer Question 4c. If you have    ##\n",
    "## not done so yet, consider revising some of your previous code to    ##\n",
    "## make use of functions for reusability.                              ##\n",
    "##                                                                     ##\n",
    "## TIP: For the Bay Area example data, you should find the average     ##\n",
    "## Subscriber trip duration to be 9.5 minutes and the average Customer ##\n",
    "## trip duration to be 54.6 minutes. Do the other cities have this     ##\n",
    "## level of difference?                                                ##\n",
    "\n",
    "def who_rides_longest(filename):\n",
    "    \"\"\"\n",
    "    This function returns a dataframe by reading a csv file, subsets the dataframe \n",
    "    according to the customer type and returns results that suggest which of the \n",
    "    customer categories took the longest ride for each city.\n",
    "    \"\"\"\n",
    "    # Load the csv\n",
    "    city_dat = pd.read_csv(filename)\n",
    "    \n",
    "    # Subset for subscribers\n",
    "    subsc_dat = city_dat[city_dat.user_type == 'Subscriber']\n",
    "    \n",
    "    #Subset for customers\n",
    "    cust_dat = city_dat[city_dat.user_type == 'Customer']\n",
    "    \n",
    "    # Find out subscribers' average\n",
    "    subsc_avg = np.mean(subsc_dat['duration'])\n",
    "    \n",
    "    # Find out customers' average\n",
    "    cust_avg = np.mean(cust_dat['duration'])\n",
    "    \n",
    "    # Return values\n",
    "    return round(subsc_avg), round(cust_avg)"
   ]
  },
  {
   "cell_type": "code",
   "execution_count": 9,
   "metadata": {},
   "outputs": [
    {
     "name": "stdout",
     "output_type": "stream",
     "text": [
      "For New York, subscribers took an average of 13.0 minutes while customers took an average of 32.0 minutes.\n",
      "For Chicago, subscribers took an average of 12.0 minutes while customers took an average of 30.0 minutes.\n",
      "For Washington, subscribers took an average of 12.0 minutes while customers took an average of 41.0 minutes.\n"
     ]
    }
   ],
   "source": [
    "nyc = './data/NYC-2016-Summary.csv'\n",
    "chicago = './data/Chicago-2016-Summary.csv'\n",
    "washington = './data/Washington-2016-Summary.csv'\n",
    "\n",
    "nyc_print = print('For New York, subscribers took an average of {} minutes while customers took an average of {} minutes.'.\n",
    "                 format(who_rides_longest(nyc)[0], who_rides_longest(nyc)[1]))\n",
    "\n",
    "chicago_print = print('For Chicago, subscribers took an average of {} minutes while customers took an average of {} minutes.'.\n",
    "                 format(who_rides_longest(chicago)[0], who_rides_longest(chicago)[1]))\n",
    "\n",
    "wash_print = print('For Washington, subscribers took an average of {} minutes while customers took an average of {} minutes.'.\n",
    "                 format(who_rides_longest(washington)[0], who_rides_longest(washington)[1]))"
   ]
  },
  {
   "cell_type": "markdown",
   "metadata": {},
   "source": [
    "**Answer 4c:** As can be seen from the output above, Washington recorded the longest mean trips for customers while suubscribers took on an average only 12 minutes in the same city. The variation in these figures is very minute for all the three cities with New York recording 13 minutes for subscribers (the maximum out of all three). On the contrary, customers ride longer than usual with minimum being 30 minutes for Chicago.\n",
    "\n",
    "This could mean that casual customers are simply one-time users of the bike service and prefer to travel longer distances than their subscriber counterparts who would want to prefer taking rides shorter than 30 minutes because of the extra charges they expend. For customers, cashing out some extra money for a one-time ride that is convenient and does its job is certainly preferable."
   ]
  },
  {
   "cell_type": "markdown",
   "metadata": {},
   "source": [
    "<a id='visualizations'></a>\n",
    "### Visualizations\n",
    "\n",
    "The last set of values that you computed should have pulled up an interesting result. While the mean trip time for Subscribers is well under 30 minutes, the mean trip time for Customers is actually _above_ 30 minutes! It will be interesting for us to look at how the trip times are distributed. In order to do this, a new library will be introduced here, `matplotlib`. Run the cell below to load the library and to generate an example plot."
   ]
  },
  {
   "cell_type": "code",
   "execution_count": 28,
   "metadata": {},
   "outputs": [
    {
     "data": {
      "image/png": "[encoded data removed]",
      "text/plain": [
       "<matplotlib.figure.Figure at 0x7fc073569240>"
      ]
     },
     "metadata": {},
     "output_type": "display_data"
    }
   ],
   "source": [
    "# this is a 'magic word' that allows for plots to be displayed\n",
    "# inline with the notebook. If you want to know more, see:\n",
    "# http://ipython.readthedocs.io/en/stable/interactive/magics.html\n",
    "%matplotlib inline \n",
    "\n",
    "# example histogram, data taken from bay area sample\n",
    "data = [ 7.65,  8.92,  7.42,  5.50, 16.17,  4.20,  8.98,  9.62, 11.48, 14.33,\n",
    "        19.02, 21.53,  3.90,  7.97,  2.62,  2.67,  3.08, 14.40, 12.90,  7.83,\n",
    "        25.12,  8.30,  4.93, 12.43, 10.60,  6.17, 10.88,  4.78, 15.15,  3.53,\n",
    "         9.43, 13.32, 11.72,  9.85,  5.22, 15.10,  3.95,  3.17,  8.78,  1.88,\n",
    "         4.55, 12.68, 12.38,  9.78,  7.63,  6.45, 17.38, 11.90, 11.52,  8.63,]\n",
    "plt.hist(data, bins = 50)\n",
    "plt.title('Distribution of Trip Durations')\n",
    "plt.xlabel('Duration (m)')\n",
    "plt.show()"
   ]
  },
  {
   "cell_type": "markdown",
   "metadata": {},
   "source": [
    "As a sidenote, it is important to note the skewness of a given distribution. The plot starting from **_In[31]_** seems to be skewed towards the left side indicating a negative skewness (mean is less than the mode). To some, it might look unclear since there are two bars between 5m and 10m that could suggest that the distribution is bimodal. However, running the same plot with fewer bins will make the picture clearer."
   ]
  },
  {
   "cell_type": "markdown",
   "metadata": {},
   "source": [
    "In the above cell, we collected fifty trip times in a list, and passed this list as the first argument to the `.hist()` function. This function performs the computations and creates plotting objects for generating a histogram, but the plot is actually not rendered until the `.show()` function is executed. The `.title()` and `.xlabel()` functions provide some labeling for plot context."
   ]
  },
  {
   "cell_type": "code",
   "execution_count": 27,
   "metadata": {},
   "outputs": [
    {
     "data": {
      "image/png": "[encoded data removed]",
      "text/plain": [
       "<matplotlib.figure.Figure at 0x7fc0712fdda0>"
      ]
     },
     "metadata": {},
     "output_type": "display_data"
    }
   ],
   "source": [
    "# Repeat above plot with fewer bins and different colour.\n",
    "\n",
    "new_data = [ 7.65,  8.92,  7.42,  5.50, 16.17,  4.20,  8.98,  9.62, 11.48, 14.33,\n",
    "            19.02, 21.53,  3.90,  7.97,  2.62,  2.67,  3.08, 14.40, 12.90,  7.83,\n",
    "            25.12,  8.30,  4.93, 12.43, 10.60,  6.17, 10.88,  4.78, 15.15,  3.53,\n",
    "             9.43, 13.32, 11.72,  9.85,  5.22, 15.10,  3.95,  3.17,  8.78,  1.88,\n",
    "             4.55, 12.68, 12.38,  9.78,  7.63,  6.45, 17.38, 11.90, 11.52,  8.63,]\n",
    "plt.hist(new_data, bins = 10, color = 'Olive')\n",
    "plt.title('Second Plot for Distribution of Trip Durations')\n",
    "plt.xlabel('Duration (m)')\n",
    "plt.show()"
   ]
  },
  {
   "cell_type": "markdown",
   "metadata": {},
   "source": [
    "Decreasing the bins makes the data less accurate when it comes to plotting the exact values although it gives a better picutre of the shape or the spread of the distribution. While keeping the bins at 50 made the histogram look as if it could be bimodal, decreasing the bins to 10 still provides a similar conclusion; although this time the spread of the histogram is clearer that it's skewed towards the left."
   ]
  },
  {
   "cell_type": "markdown",
   "metadata": {},
   "source": [
    "You will now use these functions to create a histogram of the trip times for the city you selected in question 4c. Don't separate the Subscribers and Customers for now: just collect all of the trip times and plot them."
   ]
  },
  {
   "cell_type": "code",
   "execution_count": 29,
   "metadata": {},
   "outputs": [
    {
     "data": {
      "text/plain": [
       "Text(0.5,1,'Distribution of Durations for New York')"
      ]
     },
     "execution_count": 29,
     "metadata": {},
     "output_type": "execute_result"
    },
    {
     "data": {
      "image/png": "[encoded data removed]",
      "text/plain": [
       "<matplotlib.figure.Figure at 0x7fc0735524e0>"
      ]
     },
     "metadata": {},
     "output_type": "display_data"
    }
   ],
   "source": [
    "## Use this and additional cells to collect all of the trip times as a list ##\n",
    "## and then use pyplot functions to generate a histogram of trip times.     ##\n",
    "\n",
    "# Lets proceed by first selecting the csv files. We then read in the csv files\n",
    "# and form appropriate subsets for the required variables before converting those \n",
    "# variables into lists and performing histogram analysis at the end.\n",
    "\n",
    "nyc = './data/NYC-2016-Summary.csv'\n",
    "chicago = './data/Chicago-2016-Summary.csv'\n",
    "washington = './data/Washington-2016-Summary.csv'\n",
    "bin_s = [0,20,40,60,80,100,120,140,160,180,200,220,240,260,280,300,\n",
    "         320,340,360,380,400,420,440,460,480,500,520,540,560]\n",
    "\n",
    "# Read files.\n",
    "nyc_dat = pd.read_csv(nyc)\n",
    "chicago_dat = pd.read_csv(chicago)\n",
    "wash_dat = pd.read_csv(washington)\n",
    "\n",
    "# Plot durations for example New York.\n",
    "plt.hist(nyc_dat['duration'], bin_s)\n",
    "plt.title('Distribution of Durations for New York')\n"
   ]
  },
  {
   "cell_type": "markdown",
   "metadata": {},
   "source": [
    "This is a highly skewed distribution with most of the observations lying within 0-30 minutes of the x-axis. It is understandable; since the above plot refers to data for New York that had almost 88% of subscribers' data, it can well be said that because subscribers form the majority of the plot, a single bar is bound to exist."
   ]
  },
  {
   "cell_type": "markdown",
   "metadata": {},
   "source": [
    "If you followed the use of the `.hist()` and `.show()` functions exactly like in the example, you're probably looking at a plot that's completely unexpected. The plot consists of one extremely tall bar on the left, maybe a very short second bar, and a whole lot of empty space in the center and right. Take a look at the duration values on the x-axis. This suggests that there are some highly infrequent outliers in the data. Instead of reprocessing the data, you will use additional parameters with the `.hist()` function to limit the range of data that is plotted. Documentation for the function can be found [[here]](https://matplotlib.org/devdocs/api/_as_gen/matplotlib.pyplot.hist.html#matplotlib.pyplot.hist).\n",
    "\n",
    "**Question 5**: Use the parameters of the `.hist()` function to plot the distribution of trip times for the Subscribers in your selected city. Do the same thing for only the Customers. Add limits to the plots so that only trips of duration less than 75 minutes are plotted. As a bonus, set the plots up so that bars are in five-minute wide intervals. For each group, where is the peak of each distribution? How would you describe the shape of each distribution?\n",
    "\n",
    "**Answer to be found below!**"
   ]
  },
  {
   "cell_type": "code",
   "execution_count": 2,
   "metadata": {},
   "outputs": [],
   "source": [
    "## Use this and additional cells to answer Question 5. ##\n",
    "\n",
    "new_bins  = [5,10,15,20,25,30,35,40,45,50,55,60]\n",
    "subs_dat = []\n",
    "cust_dat = []\n",
    "\n",
    "# We'll achieve this by defeining a function this time that reads in a csv file\n",
    "# and stores it as dictionary. Simple operations for conditions will then be able to\n",
    "# subset the dataset into 'subscribers' and 'customers' wherein one would be \n",
    "# able to plot simple histograms for that data.\n",
    "\n",
    "def cust_type_plotter(filename):\n",
    "    \n",
    "    # Store a dictionary of data\n",
    "    with open(filename, 'r') as csvfile:\n",
    "        trip_reader = csv.DictReader(csvfile)\n",
    "        \n",
    "        # Read in the rows and append the empty lists to contain duration data\n",
    "        for row in trip_reader:\n",
    "            if row['user_type'] == 'Subscriber':\n",
    "                subs_dat.append(int(row['duration']))\n",
    "            else:\n",
    "                cust_dat.append(int(row['duration']))\n",
    "    \n",
    "    # Plot for subscribers and customers separately.\n",
    "    plt.hist(subs_dat, rwidth = 0.4, bins = new_bins)\n",
    "    plt.title(\"Frequency Distribution for Subscribers' Durations\")\n",
    "    plt.xlabel('Duration (minutes)')\n",
    "    plt.show()\n",
    "            \n",
    "    plt.hist(cust_dat, rwidth = 0.4, bins = new_bins, color = 'orange')\n",
    "    plt.title(\"Frequency Distribution for Customers' Durations\")\n",
    "    plt.xlabel('Duration (minutes)')\n",
    "    plt.show()\n"
   ]
  },
  {
   "cell_type": "code",
   "execution_count": 3,
   "metadata": {},
   "outputs": [
    {
     "data": {
      "image/png": "[encoded data removed]",
      "text/plain": [
       "<matplotlib.figure.Figure at 0x7ff784ded518>"
      ]
     },
     "metadata": {},
     "output_type": "display_data"
    },
    {
     "data": {
      "image/png": "[encoded data removed]",
      "text/plain": [
       "<matplotlib.figure.Figure at 0x7ff782d464a8>"
      ]
     },
     "metadata": {},
     "output_type": "display_data"
    }
   ],
   "source": [
    "# Lets test this out\n",
    "\n",
    "data = './data/Washington-2016-Summary.csv'\n",
    "\n",
    "cust_type_plotter(data)"
   ]
  },
  {
   "cell_type": "markdown",
   "metadata": {},
   "source": [
    "**Answer 5:** I selected the data for Washington City because its got a reasonable size for the processing to be reasonable as well. The frequency distribution give a very clear picture. Customers certainly seem to have fewer limits when it comes to trip durations as can be seen from the graph in orange. Its more bell shaped and gaussian looking. On the contrary, the graph in blue relates to subscribers' distribution and one can clearly see the skewness in the data. Subscribers certainly restraint themselves from taking longer rides probably because of the charges that accrue for rides longer than half an hour. While subscribers tend to take trips within 30 minutes, this is not xactly the case with customers who are more comfortable taking longer trips (well above 50 minutes for some).\n",
    "\n",
    "However, both data are skewed to the left with customers' data more spread out suggesting the limiting preferences for subcribers."
   ]
  },
  {
   "cell_type": "markdown",
   "metadata": {
    "collapsed": true
   },
   "source": [
    "<a id='eda_continued'></a>\n",
    "## Performing Your Own Analysis\n",
    "\n",
    "So far, you've performed an initial exploration into the data available. You have compared the relative volume of trips made between three U.S. cities and the ratio of trips made by Subscribers and Customers. For one of these cities, you have investigated differences between Subscribers and Customers in terms of how long a typical trip lasts. Now it is your turn to continue the exploration in a direction that you choose. Here are a few suggestions for questions to explore:\n",
    "\n",
    "- How does ridership differ by month or season? Which month / season has the highest ridership? Does the ratio of Subscriber trips to Customer trips change depending on the month or season?\n",
    "- Is the pattern of ridership different on the weekends versus weekdays? On what days are Subscribers most likely to use the system? What about Customers? Does the average duration of rides change depending on the day of the week?\n",
    "- During what time of day is the system used the most? Is there a difference in usage patterns for Subscribers and Customers?\n",
    "\n",
    "If any of the questions you posed in your answer to question 1 align with the bullet points above, this is a good opportunity to investigate one of them. As part of your investigation, you will need to create a visualization. If you want to create something other than a histogram, then you might want to consult the [Pyplot documentation](https://matplotlib.org/devdocs/api/pyplot_summary.html). In particular, if you are plotting values across a categorical variable (e.g. city, user type), a bar chart will be useful. The [documentation page for `.bar()`](https://matplotlib.org/devdocs/api/_as_gen/matplotlib.pyplot.bar.html#matplotlib.pyplot.bar) includes links at the bottom of the page with examples for you to build off of for your own use.\n",
    "\n",
    "**Question 6**: Continue the investigation by exploring another question that could be answered by the data available. Document the question you want to explore below. Your investigation should involve at least two variables and should compare at least two groups. You should also use at least one visualization as part of your explorations.\n",
    "\n",
    "**Answer**: Wherever data is located, the limit to number of questions that can be asnwered remain unlimited. However, this is a very good opportunity to go into more details of the provided data and extract more insights of how the bike system works and its relative association with its users.\n",
    "\n",
    "For the remaining analysis of this report, I will look into the following questions:\n",
    "\n",
    "- What is the pattern observed when it comes to the seasonal data for the three cities?\n",
    "- We have already observed the user related to patterns that suggest that subscribers prefer to take shorter rides whereas casual users use the system to take considerably longer rides. If possible, what are the patterns when it comes to regular days vs. weekends?\n",
    "- Are these trends similar to all the three cities?\n",
    "\n",
    "I proceed by answering the first question and applying the same procedure associating each cell for each of the question above."
   ]
  },
  {
   "cell_type": "code",
   "execution_count": 4,
   "metadata": {},
   "outputs": [],
   "source": [
    "## Use this and additional cells to continue to explore the dataset. ##\n",
    "## Once you have performed your exploration, document your findings  ##\n",
    "## in the Markdown cell above.                                       ##\n",
    "\n",
    "## Lets answer the first question. What are the patterns when it comes\n",
    "## to seasonal data? To answer this question, we need to investigate\n",
    "## on how users behave according to each season. Extracting the most observed\n",
    "## season on th datasets will be helpful here. As usual, where more verbose\n",
    "## code will be involved, I'll make use of pandas and numpy.\n",
    "\n",
    "# Points to remember here:\n",
    "# Extract the mode of all the seasons. The season with the mode value is the season users use the system the most.\n",
    "# Because of different geographical locations of the three cities, the sesonal data is bound to be different as well.\n",
    "# What is the average duration of subscribers as well as customers for every season?\n",
    "\n",
    "def mode_of_seasons(file):\n",
    "    \n",
    "    # Load the csv files.\n",
    "    data = pd.read_csv(file)\n",
    "    \n",
    "    # Find the mode season for each city.\n",
    "    mode = st.mode(data['month'])\n",
    "    \n",
    "    return mode"
   ]
  },
  {
   "cell_type": "code",
   "execution_count": 5,
   "metadata": {},
   "outputs": [
    {
     "name": "stdout",
     "output_type": "stream",
     "text": [
      "For Washington, the month for which most of the data is recorded is month 7.\n",
      "For New York, the month for which most of the data is recorded is month 9.\n",
      "For Chicago, the month for which most of the data is recorded is month 7.\n"
     ]
    }
   ],
   "source": [
    "# Lets test this out\n",
    "\n",
    "washington = './data/Washington-2016-Summary.csv'\n",
    "nyc = './data/NYC-2016-Summary.csv'\n",
    "chicago = './data/Chicago-2016-Summary.csv'\n",
    "\n",
    "print('For Washington, the month for which most of the data is recorded is month {}.'.\n",
    "      format(mode_of_seasons(washington)))\n",
    "print('For New York, the month for which most of the data is recorded is month {}.'.\n",
    "      format(mode_of_seasons(nyc)))\n",
    "print('For Chicago, the month for which most of the data is recorded is month {}.'.\n",
    "      format(mode_of_seasons(chicago)))\n"
   ]
  },
  {
   "cell_type": "markdown",
   "metadata": {},
   "source": [
    "The output we got from the above code is very interesting to note. Using Python libraries makes it very elegant and simple to release efficient output through minimal code. The simple function `mode_of_seasons()` revealed that for Washington and Chicago, the month of July records the highest demand for the bike service while New York's modal month is the month of September. From June to Semptember, these are times of vacations and off-seasons for several young users that include school-going and university students; and hence a surge in demand that can be deduced. It can thus be conclude that its the time of late summers to the beginning of autumn that there is most demand for bikes.\n",
    "\n",
    "Similarly, we can peform some analysis regarding the user-base distribution according to seasons. We can ask the question as to how subscribers and customers behave in dominant seasons? Does the autumn season belong more to subscribers or is it more inclined towards customers? For this we can subset the parent dataframe into subscribers and customers and extract as to which season belongs to which category of users? A prelimiary guess might suggest it should come out to be similar as the results we got in the above cell, but a detailed analysis will always provide with the truth."
   ]
  },
  {
   "cell_type": "code",
   "execution_count": 9,
   "metadata": {},
   "outputs": [],
   "source": [
    "# In this cell, we'll develop a simple function like the above but this time we'll\n",
    "# extract data for subscribers and customers and find out the dominant season for the\n",
    "# two categories. This time, we extract results using the traditonal approach through \n",
    "# dictionaries.\n",
    "\n",
    "subs_data = []\n",
    "cust_data = []\n",
    "\n",
    "\n",
    "def dominant_month_for_users(file):\n",
    "    \"\"\"\n",
    "    This function returns the mode values regarding the month variable\n",
    "    for subscribers and customers separately. In this way, one could make out when\n",
    "    subscribers are the most active and when customers use the system the\n",
    "    most.\n",
    "    \"\"\"\n",
    "    \n",
    "    # Define main dictionary\n",
    "    with open(file, 'r') as csvfile:\n",
    "        \n",
    "        trip_reader = csv.DictReader(csvfile)\n",
    "        \n",
    "        # Count the figure for mode for wach of the user category\n",
    "        for row in trip_reader:\n",
    "            if row['user_type'] == 'Subscriber':\n",
    "                subs_data.append(int(row['month']))\n",
    "            else:\n",
    "                cust_data.append(int(row['month']))\n",
    "                \n",
    "            \n",
    "        # Count the mode for subs_data and cust_data\n",
    "        subs_mode = st.mode(subs_data)\n",
    "        cust_mode = st.mode(cust_data)\n",
    "        \n",
    "        return subs_mode, cust_mode"
   ]
  },
  {
   "cell_type": "code",
   "execution_count": 11,
   "metadata": {},
   "outputs": [
    {
     "name": "stdout",
     "output_type": "stream",
     "text": [
      "Subscribers in Washington recorded most trips in the 9th month while customers recorded the most during the 7th month.\n",
      "Subscribers in New York recorded most trips in the 9th month while customers recorded the most during the 7th month.\n",
      "Subscribers in Chicago recorded most trips in the 9th month while customers recorded the most during the 7th month.\n"
     ]
    }
   ],
   "source": [
    "# Print results in the usual manner.\n",
    "\n",
    "washington = './data/Washington-2016-Summary.csv'\n",
    "nyc = './data/NYC-2016-Summary.csv'\n",
    "chicago = './data/Chicago-2016-Summary.csv'\n",
    "\n",
    "print('Subscribers in Washington recorded most trips in the {}th month while customers recorded the most during the {}th month.'.\n",
    "     format(dominant_month_for_users(washington)[0], dominant_month_for_users(washington)[1]))\n",
    "print('Subscribers in New York recorded most trips in the {}th month while customers recorded the most during the {}th month.'.\n",
    "     format(dominant_month_for_users(nyc)[0], dominant_month_for_users(nyc)[1]))\n",
    "print('Subscribers in Chicago recorded most trips in the {}th month while customers recorded the most during the {}th month.'.\n",
    "     format(dominant_month_for_users(chicago)[0], dominant_month_for_users(chicago)[1]))"
   ]
  },
  {
   "cell_type": "markdown",
   "metadata": {},
   "source": [
    "As can be seen from the output above, all the three cities recorded maximum data from the month of June till September. This period of late summer to the beginning of autumn is the season where several users come out to use the system on a more frequent basis - these include lots of students as well who come out during their vacations. This could explain the mode values above.\n",
    "\n",
    "Meanwhile, there is a gap of one month fo all the three cities when it comes to differentiating between the mode values for subscribers as well as customers. For subscribers in Washington, its the month of june that records maximum usage while for customers its the month of July. For both New York and Chicago, the month of September records the maximum usage of their bikes under the 'subscriber' category while customers use these bikes maximum in the 8th month. For Chicago, the month of July again is the month of customers.\n",
    "\n",
    "Finally, we can have several visualizations for the above released output. Many packages are available that include `matplotlib` as the most popular. However, there are others too like `seaborn` and `altair` as well. Since this is the first time I've developed a comprehensive python notebook, some of my graphic outputs here will be made through the `altair` library because of some nice examples I've seen under its official documentation and examples reproduced at stackoverflow.\n",
    "\n",
    "For this, we first proceed by extracting relevant information from the dataframes available with us, concatenating those values into new dataframes and running graphic code on them."
   ]
  },
  {
   "cell_type": "code",
   "execution_count": 36,
   "metadata": {},
   "outputs": [
    {
     "name": "stdout",
     "output_type": "stream",
     "text": [
      "   Subscribers' Month  Customers' Month        City\n",
      "0                   6                 7  Washington\n",
      "1                   9                 8    New York\n",
      "2                   6                 7     Chicago\n"
     ]
    },
    {
     "data": {
      "text/plain": [
       "<matplotlib.axes._subplots.AxesSubplot at 0x7ff77ffac978>"
      ]
     },
     "execution_count": 36,
     "metadata": {},
     "output_type": "execute_result"
    },
    {
     "data": {
      "image/png": "[encoded data removed]",
      "text/plain": [
       "<matplotlib.figure.Figure at 0x7ff77ffac208>"
      ]
     },
     "metadata": {},
     "output_type": "display_data"
    }
   ],
   "source": [
    "# Visualizing dominant months for all the three cities according to subscribers and customers\n",
    "\n",
    "# Refer to the csv files first.\n",
    "washington = './data/Washington-2016-Summary.csv'\n",
    "nyc = './data/NYC-2016-Summary.csv'\n",
    "chicago = './data/Chicago-2016-Summary.csv'\n",
    "\n",
    "# Read parent dataframe for each file.\n",
    "wash_df = pd.read_csv(washington)\n",
    "nyc_df = pd.read_csv(nyc)\n",
    "chicago_df = pd.read_csv(chicago)\n",
    "\n",
    "# Subset for subscribers and customers\n",
    "wash_subs = wash_df[wash_df.user_type == 'Subscriber']\n",
    "wash_custs = wash_df[wash_df.user_type == 'Customer']\n",
    "\n",
    "nyc_subs = nyc_df[nyc_df.user_type == 'Subscriber']\n",
    "nyc_custs = nyc_df[nyc_df.user_type == 'Customer']\n",
    "\n",
    "chicago_subs = chicago_df[chicago_df.user_type == 'Subscriber']\n",
    "chicago_custs = chicago_df[chicago_df.user_type == 'Customer']\n",
    "\n",
    "# Extract mode values and store them\n",
    "wash_subs_mode = st.mode(wash_subs['month'])\n",
    "wash_cust_mode = st.mode(wash_custs['month'])\n",
    "\n",
    "nyc_subs_mode = st.mode(nyc_subs['month'])\n",
    "nyc_cust_mode = st.mode(nyc_custs['month'])\n",
    "\n",
    "chicago_subs_mode = st.mode(chicago_subs['month'])\n",
    "chicago_cust_mode = st.mode(chicago_custs['month'])\n",
    "\n",
    "# Store these values into a dataframe\n",
    "value_df = pd.DataFrame([[wash_subs_mode, wash_cust_mode, 'Washington'],\n",
    "                        [nyc_subs_mode, nyc_cust_mode, 'New York'],\n",
    "                        [chicago_subs_mode, chicago_cust_mode, 'Chicago']],\n",
    "                        columns = [\"Subscribers' Month\", \"Customers' Month\", \"City\"])\n",
    "\n",
    "print(value_df)\n",
    "\n",
    "# Give shape to our final chart\n",
    "value_df.plot(kind = 'bar', x = 'City', sharex = True, title = 'Dominant Months for Subscribers and Customers',\n",
    "             figsize = (8,6))"
   ]
  },
  {
   "cell_type": "markdown",
   "metadata": {},
   "source": [
    "For every code that prints an output, there should always be a visualization accompanying it, since it reinforces the results from just being textual to graphical. The human brain is wired to recognise patterns and extract insights from it. The above plot makes things much simpler for a layman where the dominant month can be seen for each city. While for Washington, subscribers tend to use the service the most in the month of June, customers record most of their trips in the following month of July. For New York though, its interesting to note differing months for each of the user type. While customers in 2016 recorded most trips in the 8th month, subscribers recorded them well into the 9th month!\n",
    "\n",
    "This concludes my work for this Python notebook. Hope it was an enjoyable read and hoping so far that I will get the appropirate grades for it. This is the edited version on request of the reviewer to add some more details and correct answer to qeustion 4c. Some more details have been added wherever I thought it will add value to the document. If any of the rubric is still left, I will most passionately make additions."
   ]
  },
  {
   "cell_type": "markdown",
   "metadata": {},
   "source": [
    "<a id='conclusions'></a>\n",
    "## Conclusions\n",
    "\n",
    "Congratulations on completing the project! This is only a sampling of the data analysis process: from generating questions, wrangling the data, and to exploring the data. Normally, at this point in the data analysis process, you might want to draw conclusions about the data by performing a statistical test or fitting the data to a model for making predictions. There are also a lot of potential analyses that could be performed on the data which are not possible with only the data provided. For example, detailed location data has not been investigated. Where are the most commonly used docks? What are the most common routes? As another example, weather has potential to have a large impact on daily ridership. How much is ridership impacted when there is rain or snow? Are subscribers or customers affected more by changes in weather?\n",
    "\n",
    "**Question 7**: Putting the bike share data aside, think of a topic or field of interest where you would like to be able to apply the techniques of data science. What would you like to be able to learn from your chosen subject?\n",
    "\n",
    "**Answer**: Since I'm a student from an economics/finance background with applications in statistics, my focus in data science will always be application of data analytics and artificia intellligence in financial and economic fields. Statistics is an integral part of economic application and modern techniques of scientific computing is unleashing an alogether new kinds of discoveries and results that have some major implications for the economic world and how we can make it better by digging more insights from it. I intend to be a part of this movement where I can design some algorithms and write excellent, artistic code to discover what's going on around us.\n",
    "\n",
    "> **Tip**: If we want to share the results of our analysis with others, we aren't limited to giving them a copy of the jupyter Notebook (.ipynb) file. We can also export the Notebook output in a form that can be opened even for those without Python installed. From the **File** menu in the upper left, go to the **Download as** submenu. You can then choose a different format that can be viewed more generally, such as HTML (.html) or\n",
    "PDF (.pdf). You may need additional packages or software to perform these exports.\n",
    "\n",
    "> If you are working on this project via the Project Notebook page in the classroom, you can also submit this project directly from the workspace. **Before you do that**, you should save an HTML copy of the completed project to the workspace by running the code cell below. If it worked correctly, the output code should be a 0, and if you click on the jupyter icon in the upper left, you should see your .html document in the workspace directory. Alternatively, you can download the .html copy of your report following the steps in the previous paragraph, then _upload_ the report to the directory (by clicking the jupyter icon).\n",
    "\n",
    "> Either way, once you've gotten the .html report in your workspace, you can complete your submission by clicking on the \"Submit Project\" button to the lower-right hand side of the workspace."
   ]
  },
  {
   "cell_type": "code",
   "execution_count": 2,
   "metadata": {},
   "outputs": [
    {
     "data": {
      "text/plain": [
       "0"
      ]
     },
     "execution_count": 2,
     "metadata": {},
     "output_type": "execute_result"
    }
   ],
   "source": [
    "from subprocess import call\n",
    "call(['python', '-m', 'nbconvert', 'Bike_Share_Analysis.ipynb'])"
   ]
  }
 ],
 "metadata": {
  "anaconda-cloud": {},
  "kernelspec": {
   "display_name": "Python 3",
   "language": "python",
   "name": "python3"
  },
  "language_info": {
   "codemirror_mode": {
    "name": "ipython",
    "version": 3
   },
   "file_extension": ".py",
   "mimetype": "text/x-python",
   "name": "python",
   "nbconvert_exporter": "python",
   "pygments_lexer": "ipython3",
   "version": "3.6.3"
  }
 },
 "nbformat": 4,
 "nbformat_minor": 1
}
